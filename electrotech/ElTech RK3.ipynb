{
 "cells": [
  {
   "cell_type": "markdown",
   "metadata": {},
   "source": [
    "## Задача №1\n",
    "\n",
    "Параллельная шина содержит проводники, каждый из которых соответствует модели длинной линии без потерь, взаимодействием между проводниками можно пренебречь. Погонная индуктивность и емкость каждой из этих линий равны 0,3 мкГн/м и 54 пФ/м, частота  шины 1 ГГц, длина наиболее короткого проводника равна 10 см. Определить максимально допустимое увеличение длин других проводников шины, см, при которой задержка распространения импульсов напряжения в параллельных проводниках не превышает половины периода частоты шины. Считать, что групповая и фазовая скорости в линии равны."
   ]
  },
  {
   "cell_type": "code",
   "execution_count": null,
   "metadata": {},
   "outputs": [],
   "source": []
  },
  {
   "cell_type": "markdown",
   "metadata": {},
   "source": []
  },
  {
   "cell_type": "code",
   "execution_count": null,
   "metadata": {},
   "outputs": [],
   "source": []
  },
  {
   "cell_type": "markdown",
   "metadata": {},
   "source": [
    "## Задача №2\n",
    "\n",
    "Погонная индуктивность и емкость длинной линии без потерь равны  0,3 мкГн/м и 54 пФ/м. Линия согласована, мощность, переносимая бегущей волной, равна  1 Вт. Найти амплитуду напряжения бегущей волны, В."
   ]
  },
  {
   "cell_type": "code",
   "execution_count": 1,
   "metadata": {},
   "outputs": [
    {
     "data": {
      "text/plain": [
       "1"
      ]
     },
     "execution_count": 1,
     "metadata": {},
     "output_type": "execute_result"
    }
   ],
   "source": [
    "L = 0.3 * 10^-6\n",
    "C = 54 * 10^-12\n",
    "P = 1"
   ]
  },
  {
   "cell_type": "markdown",
   "metadata": {},
   "source": [
    "$$\n",
    "P = \\frac{V_m^2}{2Z} \\quad \\Rightarrow \\quad V_m = \\sqrt{2PZ}\\\\\n",
    "Z = \\sqrt{\\frac{L}{C}}\n",
    "$$"
   ]
  },
  {
   "cell_type": "code",
   "execution_count": 2,
   "metadata": {},
   "outputs": [
    {
     "data": {
      "text/plain": [
       "12.209471671615688"
      ]
     },
     "execution_count": 2,
     "metadata": {},
     "output_type": "execute_result"
    }
   ],
   "source": [
    "V_m = √(2P * √(L/C))"
   ]
  },
  {
   "cell_type": "markdown",
   "metadata": {},
   "source": [
    "## Задача №3\n",
    "\n",
    "Погонная индуктивность и емкость длинной линии без потерь равны  0,3 мкГн/м и 54 пФ/м . Линия согласована, амплитуда напряжения бегущей волны составляет 5 В. Найти мощность, переносимую бегущей волной, мВт."
   ]
  },
  {
   "cell_type": "code",
   "execution_count": 3,
   "metadata": {},
   "outputs": [
    {
     "data": {
      "text/plain": [
       "5"
      ]
     },
     "execution_count": 3,
     "metadata": {},
     "output_type": "execute_result"
    }
   ],
   "source": [
    "L = 0.3 * 10^-6\n",
    "C = 54 * 10^-12\n",
    "V_m = 5"
   ]
  },
  {
   "cell_type": "markdown",
   "metadata": {},
   "source": [
    "$$\n",
    "P = \\frac{V_m^2}{2Z}\n",
    "$$"
   ]
  },
  {
   "cell_type": "code",
   "execution_count": 4,
   "metadata": {},
   "outputs": [
    {
     "data": {
      "text/plain": [
       "0.16770509831248423"
      ]
     },
     "execution_count": 4,
     "metadata": {},
     "output_type": "execute_result"
    }
   ],
   "source": [
    "P = V_m^2 / (2 * √(L/C))"
   ]
  },
  {
   "cell_type": "markdown",
   "metadata": {},
   "source": [
    "## Задача №4\n",
    "\n",
    "Погонная индуктивность и емкость длинной линии без потерь равны  0,8 мкГн/м и 20 пФ/м . Линия согласована, амплитуда напряжения бегущей волны составляет 3 В. Найти мощность, переносимую бегущей волной, мВт."
   ]
  },
  {
   "cell_type": "code",
   "execution_count": 5,
   "metadata": {},
   "outputs": [
    {
     "data": {
      "text/plain": [
       "3"
      ]
     },
     "execution_count": 5,
     "metadata": {},
     "output_type": "execute_result"
    }
   ],
   "source": [
    "L = 0.8 * 10^-6\n",
    "C = 20 * 10^-12\n",
    "V_m = 3"
   ]
  },
  {
   "cell_type": "markdown",
   "metadata": {},
   "source": [
    "$$\n",
    "P = \\frac{V_m^2}{2Z}\n",
    "$$"
   ]
  },
  {
   "cell_type": "code",
   "execution_count": 6,
   "metadata": {},
   "outputs": [
    {
     "data": {
      "text/plain": [
       "0.022500000000000003"
      ]
     },
     "execution_count": 6,
     "metadata": {},
     "output_type": "execute_result"
    }
   ],
   "source": [
    "P = V_m^2 / (2 * √(L/C))"
   ]
  },
  {
   "cell_type": "markdown",
   "metadata": {},
   "source": [
    "## Задача №5\n",
    "\n",
    "Волновое сопротивление длинной линии без потерь равно 50 Ом. Линия нагружена на активное сопротивление 100 Ом. Найти отношение максимальной амплитуды в линии к минимальной амплитуде."
   ]
  },
  {
   "cell_type": "code",
   "execution_count": 7,
   "metadata": {},
   "outputs": [
    {
     "data": {
      "text/plain": [
       "100"
      ]
     },
     "execution_count": 7,
     "metadata": {},
     "output_type": "execute_result"
    }
   ],
   "source": [
    "Zv = 50\n",
    "Zp = 100"
   ]
  },
  {
   "cell_type": "markdown",
   "metadata": {},
   "source": []
  },
  {
   "cell_type": "code",
   "execution_count": 8,
   "metadata": {},
   "outputs": [
    {
     "data": {
      "text/plain": [
       "0.3333333333333333"
      ]
     },
     "execution_count": 8,
     "metadata": {},
     "output_type": "execute_result"
    }
   ],
   "source": [
    "a = (Zp - Zv)\n",
    "b = Zp + Zv\n",
    "\n",
    "a/b"
   ]
  },
  {
   "cell_type": "markdown",
   "metadata": {},
   "source": [
    "## Задача №6\n",
    "\n",
    "Волновое сопротивление длинной линии без потерь равно 50 Ом. Линия нагружена на сопротивление 75 Ом. Найти отношение мощности отраженной волны к мощности падающей волны."
   ]
  },
  {
   "cell_type": "code",
   "execution_count": 9,
   "metadata": {},
   "outputs": [
    {
     "data": {
      "text/plain": [
       "75"
      ]
     },
     "execution_count": 9,
     "metadata": {},
     "output_type": "execute_result"
    }
   ],
   "source": [
    "Zv = 50\n",
    "Zp = 75"
   ]
  },
  {
   "cell_type": "markdown",
   "metadata": {},
   "source": []
  },
  {
   "cell_type": "code",
   "execution_count": 10,
   "metadata": {},
   "outputs": [
    {
     "data": {
      "text/plain": [
       "0.04000000000000001"
      ]
     },
     "execution_count": 10,
     "metadata": {},
     "output_type": "execute_result"
    }
   ],
   "source": [
    "a = (Zp - Zv)\n",
    "b = Zp + Zv\n",
    "\n",
    "(a/b)^2"
   ]
  },
  {
   "cell_type": "markdown",
   "metadata": {},
   "source": [
    "## Задача №7\n",
    "\n",
    "Волновое сопротивление длинной линии без потерь равно 75 Ом. Линия нагружена на активное сопротивление 300 Ом. Найти отношение максимальной амплитуды в линии к минимальной амплитуде."
   ]
  },
  {
   "cell_type": "code",
   "execution_count": 11,
   "metadata": {},
   "outputs": [
    {
     "data": {
      "text/plain": [
       "300"
      ]
     },
     "execution_count": 11,
     "metadata": {},
     "output_type": "execute_result"
    }
   ],
   "source": [
    "Zv = 75\n",
    "Zp = 300"
   ]
  },
  {
   "cell_type": "code",
   "execution_count": 12,
   "metadata": {},
   "outputs": [
    {
     "data": {
      "text/plain": [
       "(225, 375, 4.0)"
      ]
     },
     "execution_count": 12,
     "metadata": {},
     "output_type": "execute_result"
    }
   ],
   "source": [
    "a = (Zp - Zv)\n",
    "b = Zp + Zv\n",
    "\n",
    "a, b, (a+b)/(b-a)"
   ]
  }
 ],
 "metadata": {
  "kernelspec": {
   "display_name": "Julia 1.4.1",
   "language": "julia",
   "name": "julia-1.4"
  },
  "language_info": {
   "file_extension": ".jl",
   "mimetype": "application/julia",
   "name": "julia",
   "version": "1.4.1"
  }
 },
 "nbformat": 4,
 "nbformat_minor": 4
}
