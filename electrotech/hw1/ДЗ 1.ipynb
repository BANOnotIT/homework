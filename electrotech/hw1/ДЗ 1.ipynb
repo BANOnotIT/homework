{
 "cells": [
  {
   "cell_type": "markdown",
   "metadata": {},
   "source": [
    "## ДАНО"
   ]
  },
  {
   "cell_type": "code",
   "execution_count": 50,
   "metadata": {},
   "outputs": [
    {
     "data": {
      "text/plain": [
       "0.1"
      ]
     },
     "execution_count": 50,
     "metadata": {},
     "output_type": "execute_result"
    }
   ],
   "source": [
    "C1 = 10 * 10^-6\n",
    "C2 = 5 * 10^-6\n",
    "R1 = 100\n",
    "R2 = R3 = 200\n",
    "E1=100 +100im\n",
    "E2=200im\n",
    "J=1+1im\n",
    "ω=1000\n",
    "L = 0.1"
   ]
  },
  {
   "cell_type": "code",
   "execution_count": 51,
   "metadata": {},
   "outputs": [
    {
     "data": {
      "text/plain": [
       "my (generic function with 1 method)"
      ]
     },
     "execution_count": 51,
     "metadata": {},
     "output_type": "execute_result"
    }
   ],
   "source": [
    "gavg(a) = sqrt(real(a)^2 + imag(a)^2)\n",
    "my(i) = [gavg(i), atan(imag(i)/real(i))]"
   ]
  },
  {
   "cell_type": "code",
   "execution_count": 52,
   "metadata": {},
   "outputs": [
    {
     "data": {
      "text/plain": [
       "(0 - 100im, 0 - 200im)"
      ]
     },
     "execution_count": 52,
     "metadata": {},
     "output_type": "execute_result"
    }
   ],
   "source": [
    "Z_c1 = -100im # -1im / (ω*C1)\n",
    "Z_c2 = -200im #-1im / (ω*C2)\n",
    "Z_L =  100im # 1im * ω * L\n",
    "Z_c1, Z_c2"
   ]
  },
  {
   "cell_type": "markdown",
   "metadata": {},
   "source": [
    "### другая попыточка"
   ]
  },
  {
   "cell_type": "code",
   "execution_count": 53,
   "metadata": {},
   "outputs": [
    {
     "data": {
      "text/plain": [
       "2-element Array{Complex{Float64},1}:\n",
       "  1.0000000000000002 + 1.0im\n",
       " 0.27868852459016397 - 0.9344262295081966im"
      ]
     },
     "execution_count": 53,
     "metadata": {},
     "output_type": "execute_result"
    }
   ],
   "source": [
    "Aa = [\n",
    "    1 0 0\n",
    "    -Z_L (R3+Z_L+Z_c2) R3\n",
    "    R2 R3 (R1+R2+R3)\n",
    "]\n",
    "xa1 = [\n",
    "    J\n",
    "    0\n",
    "    E1-E2\n",
    "]\n",
    "Ik1, Ik2, Ik3 = Aa\\xa1\n",
    "\n",
    "first_I = [\n",
    "    Ik3\n",
    "    J\n",
    "    -Ik3-Ik1\n",
    "    Ik2 + Ik3\n",
    "    Ik2\n",
    "    Ik2-Ik1\n",
    "]\n",
    "\n",
    "[Ik1 ; Ik3]"
   ]
  },
  {
   "cell_type": "markdown",
   "metadata": {},
   "source": [
    "###  resume"
   ]
  },
  {
   "cell_type": "markdown",
   "metadata": {},
   "source": [
    "A = [(R3+Z_L+Z_c2) R3 ; R3 R1+R2+R3]\n",
    "x1 = [ J*Z_c2 ; E1-E2+J*R1]\n",
    "println(A)\n",
    "I = A\\x1"
   ]
  },
  {
   "cell_type": "markdown",
   "metadata": {},
   "source": [
    "Ik1, Ik2, Ik3 = [[J] ; I]\n",
    "\n",
    "first_I = [Ik1 + Ik3; J; -Ik3; Ik2 + Ik3;  Ik2 - Ik1; Ik2]"
   ]
  },
  {
   "cell_type": "code",
   "execution_count": 54,
   "metadata": {},
   "outputs": [
    {
     "data": {
      "text/plain": [
       "6-element Array{Array{Float64,1},1}:\n",
       " [0.9750998267516755, -1.2809498368832768]\n",
       " [1.4142135623730951, 0.7853981633974483]\n",
       " [1.28036879932896, 0.051237167403418854]\n",
       " [0.9232870714969657, 0.10673567264913562]\n",
       " [1.4598450400585696, -0.6098060014472679]\n",
       " [2.2028297747201084, 0.07448879021388174]"
      ]
     },
     "execution_count": 54,
     "metadata": {},
     "output_type": "execute_result"
    }
   ],
   "source": [
    "map(my, first_I)"
   ]
  },
  {
   "cell_type": "markdown",
   "metadata": {},
   "source": [
    "## Вторая часть"
   ]
  },
  {
   "cell_type": "code",
   "execution_count": 55,
   "metadata": {},
   "outputs": [
    {
     "data": {
      "text/plain": [
       "(0.01, 0.0 + 0.01im, 0.005, 0.005, 0.0 + 0.005im, 0.0 - 0.01im)"
      ]
     },
     "execution_count": 55,
     "metadata": {},
     "output_type": "execute_result"
    }
   ],
   "source": [
    "G1= 1/R1\n",
    "G2= 1 / Z_c1\n",
    "G3= 1/R2\n",
    "G4= 1/R3\n",
    "G5= 1/Z_c2\n",
    "G6= 1/Z_L\n",
    "G1,G2,G3,G4,G5,G6"
   ]
  },
  {
   "cell_type": "code",
   "execution_count": 56,
   "metadata": {},
   "outputs": [
    {
     "data": {
      "text/plain": [
       "4-element Array{Complex{Float64},1}:\n",
       " -183.60655737704917 - 19.67213114754098im\n",
       " -167.21311475409837 - 239.34426229508196im\n",
       "    72.1311475409836 + 193.44262295081967im\n",
       "                 0.0 + 0.0im"
      ]
     },
     "execution_count": 56,
     "metadata": {},
     "output_type": "execute_result"
    }
   ],
   "source": [
    "B = [\n",
    "    G3+G4+G6 -G6 -G3 \n",
    "    -G6 G5+G6 0 \n",
    "    -G4 -G5 -G1\n",
    "]\n",
    "x2 = [\n",
    "    -E2*G3 \n",
    "    -J \n",
    "    -E1*G1\n",
    "]\n",
    "fi =[\n",
    "    B\\x2\n",
    "    [0]\n",
    "]\n",
    "\n",
    "fi"
   ]
  },
  {
   "cell_type": "code",
   "execution_count": 57,
   "metadata": {
    "scrolled": false
   },
   "outputs": [
    {
     "data": {
      "text/plain": [
       "6-element Array{Complex{Float64},1}:\n",
       " 0.27868852459016397 - 0.9344262295081966im\n",
       "                 1.0 + 1.0im\n",
       " -1.2786885245901638 - 0.06557377049180332im\n",
       " -0.9180327868852459 - 0.0983606557377049im\n",
       " -1.1967213114754098 + 0.8360655737704918im\n",
       "   -2.19672131147541 - 0.16393442622950802im"
      ]
     },
     "execution_count": 57,
     "metadata": {},
     "output_type": "execute_result"
    }
   ],
   "source": [
    "second_I = [\n",
    "    (fi[4]-fi[3] + E1)*G1 \n",
    "    J \n",
    "    (fi[1]-fi[3]+E2)*G3 \n",
    "    (fi[1]-fi[4])*G4 \n",
    "    (fi[4]-fi[2])*G5\n",
    "    (fi[2]-fi[1])*G6\n",
    "]"
   ]
  },
  {
   "cell_type": "code",
   "execution_count": 58,
   "metadata": {},
   "outputs": [
    {
     "data": {
      "text/plain": [
       "6-element Array{Complex{Float64},1}:\n",
       "  0.0 + 0.0im\n",
       "  0.0 + 0.0im\n",
       " -0.0 - 0.0im\n",
       " -0.0 - 0.0im\n",
       " -0.0 - 0.0im\n",
       "  0.0 - 0.0im"
      ]
     },
     "execution_count": 58,
     "metadata": {},
     "output_type": "execute_result"
    }
   ],
   "source": [
    "map(x->round(x; digits =10),first_I-second_I)"
   ]
  },
  {
   "cell_type": "markdown",
   "metadata": {},
   "source": [
    "## 4 задание -- эквивалентный источник напряжения"
   ]
  },
  {
   "cell_type": "code",
   "execution_count": 59,
   "metadata": {},
   "outputs": [
    {
     "data": {
      "text/plain": [
       "30.0 - 90.0im"
      ]
     },
     "execution_count": 59,
     "metadata": {},
     "output_type": "execute_result"
    }
   ],
   "source": [
    "R_eq = (R1+R2)*(Z_c2 + Z_L)/(R1+R2+Z_c2 + Z_L)"
   ]
  },
  {
   "cell_type": "code",
   "execution_count": 68,
   "metadata": {},
   "outputs": [
    {
     "data": {
      "text/plain": [
       "0.39999999999999997 - 1.2000000000000002im"
      ]
     },
     "execution_count": 68,
     "metadata": {},
     "output_type": "execute_result"
    }
   ],
   "source": [
    "I44 = (E1 - E2 -J*(R2 + Z_L)) / (R1+R2 + Z_L + Z_c2)"
   ]
  },
  {
   "cell_type": "code",
   "execution_count": 76,
   "metadata": {},
   "outputs": [
    {
     "data": {
      "text/plain": [
       "320.0 - 160.00000000000006im"
      ]
     },
     "execution_count": 76,
     "metadata": {},
     "output_type": "execute_result"
    }
   ],
   "source": [
    "ε = (I44)* R1 + (I44+J)*R2\n",
    "# I44 - first_I[1]"
   ]
  },
  {
   "cell_type": "markdown",
   "metadata": {},
   "source": [
    "##  5 задание -- ток и рассеивание"
   ]
  },
  {
   "cell_type": "code",
   "execution_count": 77,
   "metadata": {},
   "outputs": [
    {
     "data": {
      "text/plain": [
       "1.4426229508196724 - 0.13114754098360676im"
      ]
     },
     "execution_count": 77,
     "metadata": {},
     "output_type": "execute_result"
    }
   ],
   "source": [
    "I_r = ε / (R_eq + R3)\n",
    "# first_I[4] - I_r"
   ]
  },
  {
   "cell_type": "code",
   "execution_count": 78,
   "metadata": {},
   "outputs": [
    {
     "data": {
      "text/plain": [
       "241.31147540983616"
      ]
     },
     "execution_count": 78,
     "metadata": {},
     "output_type": "execute_result"
    }
   ],
   "source": [
    "avgP= gavg(ε)*gavg(I_r) / 2 * cos(angle(ε) -angle(I_r))"
   ]
  },
  {
   "cell_type": "code",
   "execution_count": 74,
   "metadata": {},
   "outputs": [
    {
     "data": {
      "text/plain": [
       "0.9312427797057534"
      ]
     },
     "execution_count": 74,
     "metadata": {},
     "output_type": "execute_result"
    }
   ],
   "source": [
    "cos(angle(ε) -angle(I_r))"
   ]
  },
  {
   "cell_type": "code",
   "execution_count": 81,
   "metadata": {},
   "outputs": [
    {
     "data": {
      "text/plain": [
       "27.868852459016395 - 93.44262295081967im"
      ]
     },
     "execution_count": 81,
     "metadata": {},
     "output_type": "execute_result"
    }
   ],
   "source": [
    "first_I[1]/G1"
   ]
  },
  {
   "cell_type": "code",
   "execution_count": null,
   "metadata": {},
   "outputs": [],
   "source": []
  }
 ],
 "metadata": {
  "kernelspec": {
   "display_name": "Julia 1.4.1",
   "language": "julia",
   "name": "julia-1.4"
  },
  "language_info": {
   "file_extension": ".jl",
   "mimetype": "application/julia",
   "name": "julia",
   "version": "1.4.1"
  }
 },
 "nbformat": 4,
 "nbformat_minor": 4
}
